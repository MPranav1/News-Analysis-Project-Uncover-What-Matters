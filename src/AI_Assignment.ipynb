{
 "cells": [
  {
   "cell_type": "code",
   "execution_count": 1,
   "id": "56aaaf80-1d5f-43b4-a61d-eb66163ba492",
   "metadata": {},
   "outputs": [
    {
     "name": "stdout",
     "output_type": "stream",
     "text": [
      "Requirement already satisfied: pandas in c:\\users\\hp\\anaconda3\\lib\\site-packages (1.5.3)\n",
      "Requirement already satisfied: nltk in c:\\users\\hp\\anaconda3\\lib\\site-packages (3.8.1)\n",
      "Requirement already satisfied: textblob in c:\\users\\hp\\anaconda3\\lib\\site-packages (0.18.0.post0)\n",
      "Requirement already satisfied: gensim in c:\\users\\hp\\anaconda3\\lib\\site-packages (4.3.0)\n",
      "Requirement already satisfied: scikit-learn in c:\\users\\hp\\anaconda3\\lib\\site-packages (1.2.2)\n",
      "Requirement already satisfied: python-dateutil>=2.8.1 in c:\\users\\hp\\anaconda3\\lib\\site-packages (from pandas) (2.9.0.post0)\n",
      "Requirement already satisfied: pytz>=2020.1 in c:\\users\\hp\\anaconda3\\lib\\site-packages (from pandas) (2024.1)\n",
      "Requirement already satisfied: numpy>=1.21.0 in c:\\users\\hp\\anaconda3\\lib\\site-packages (from pandas) (1.24.4)\n",
      "Requirement already satisfied: click in c:\\users\\hp\\anaconda3\\lib\\site-packages (from nltk) (8.1.7)\n",
      "Requirement already satisfied: joblib in c:\\users\\hp\\anaconda3\\lib\\site-packages (from nltk) (1.2.0)\n",
      "Requirement already satisfied: regex>=2021.8.3 in c:\\users\\hp\\anaconda3\\lib\\site-packages (from nltk) (2023.10.3)\n",
      "Requirement already satisfied: tqdm in c:\\users\\hp\\anaconda3\\lib\\site-packages (from nltk) (4.65.0)\n",
      "Requirement already satisfied: scipy>=1.7.0 in c:\\users\\hp\\anaconda3\\lib\\site-packages (from gensim) (1.10.1)\n",
      "Requirement already satisfied: smart-open>=1.8.1 in c:\\users\\hp\\anaconda3\\lib\\site-packages (from gensim) (5.2.1)\n",
      "Requirement already satisfied: FuzzyTM>=0.4.0 in c:\\users\\hp\\anaconda3\\lib\\site-packages (from gensim) (2.0.9)\n",
      "Requirement already satisfied: threadpoolctl>=2.0.0 in c:\\users\\hp\\anaconda3\\lib\\site-packages (from scikit-learn) (2.2.0)\n",
      "Requirement already satisfied: pyfume in c:\\users\\hp\\anaconda3\\lib\\site-packages (from FuzzyTM>=0.4.0->gensim) (0.3.4)\n",
      "Requirement already satisfied: six>=1.5 in c:\\users\\hp\\anaconda3\\lib\\site-packages (from python-dateutil>=2.8.1->pandas) (1.16.0)\n",
      "Requirement already satisfied: colorama in c:\\users\\hp\\anaconda3\\lib\\site-packages (from click->nltk) (0.4.6)\n",
      "Requirement already satisfied: simpful==2.12.0 in c:\\users\\hp\\anaconda3\\lib\\site-packages (from pyfume->FuzzyTM>=0.4.0->gensim) (2.12.0)\n",
      "Requirement already satisfied: fst-pso==1.8.1 in c:\\users\\hp\\anaconda3\\lib\\site-packages (from pyfume->FuzzyTM>=0.4.0->gensim) (1.8.1)\n",
      "Requirement already satisfied: miniful in c:\\users\\hp\\anaconda3\\lib\\site-packages (from fst-pso==1.8.1->pyfume->FuzzyTM>=0.4.0->gensim) (0.0.6)\n",
      "Note: you may need to restart the kernel to use updated packages.\n"
     ]
    }
   ],
   "source": [
    "pip install pandas nltk textblob gensim scikit-learn"
   ]
  },
  {
   "cell_type": "code",
   "execution_count": 2,
   "id": "48066722-6656-4963-a2f0-405e42b58973",
   "metadata": {},
   "outputs": [
    {
     "name": "stdout",
     "output_type": "stream",
     "text": [
      "                                             Article\n",
      "0  Retailers, the makers of foods marketed for we...\n",
      "1  Move over, Ozempic — there’s a new drug in tow...\n",
      "2  Sept 14 (Reuters) - Bristol Myers Squibb (BMY....\n",
      "3  Austin Wolcott was 18 years old and pretty sur...\n",
      "4  Cancer, often referred to as the “emperor of a...\n"
     ]
    }
   ],
   "source": [
    "import pandas as pd\n",
    "df = pd.read_excel(r'C:\\Users\\HP\\Desktop\\Assignment\\Assignment.xlsx')\n",
    "\n",
    "print(df.head())\n"
   ]
  },
  {
   "cell_type": "code",
   "execution_count": 7,
   "id": "9123c1f3-6446-49ad-9f7e-5aa9bd3fda6c",
   "metadata": {},
   "outputs": [],
   "source": [
    "import re\n",
    "from nltk.corpus import stopwords\n",
    "from nltk.tokenize import word_tokenize\n",
    "from textblob import TextBlob\n",
    "from gensim import corpora, models\n",
    "import nltk"
   ]
  },
  {
   "cell_type": "code",
   "execution_count": 5,
   "id": "ca2b39c5-43fb-4304-bf9b-179b8d7bede5",
   "metadata": {},
   "outputs": [
    {
     "name": "stderr",
     "output_type": "stream",
     "text": [
      "[nltk_data] Downloading package punkt to\n",
      "[nltk_data]     C:\\Users\\HP\\AppData\\Roaming\\nltk_data...\n",
      "[nltk_data]   Package punkt is already up-to-date!\n",
      "[nltk_data] Downloading package stopwords to\n",
      "[nltk_data]     C:\\Users\\HP\\AppData\\Roaming\\nltk_data...\n",
      "[nltk_data]   Unzipping corpora\\stopwords.zip.\n"
     ]
    },
    {
     "data": {
      "text/plain": [
       "True"
      ]
     },
     "execution_count": 5,
     "metadata": {},
     "output_type": "execute_result"
    }
   ],
   "source": [
    "nltk.download('punkt')\n",
    "nltk.download('stopwords')"
   ]
  },
  {
   "cell_type": "code",
   "execution_count": 8,
   "id": "509f0669-e966-410d-9590-850f1b592b4e",
   "metadata": {},
   "outputs": [
    {
     "name": "stdout",
     "output_type": "stream",
     "text": [
      "0    Retailers makers foods marketed weight loss ty...\n",
      "1    Move Ozempic theres new drug town Eli Lillys Z...\n",
      "2    Sept 14 Reuters Bristol Myers Squibb BMYN said...\n",
      "3    Austin Wolcott 18 years old pretty sure wouldn...\n",
      "4    Cancer often referred emperor maladies unyield...\n",
      "Name: cleaned_text, dtype: object\n"
     ]
    }
   ],
   "source": [
    "stop_words = set(stopwords.words('english'))\n",
    "\n",
    "def clean_text(text):\n",
    "    text = re.sub(r'[^\\w\\s]', '', text)\n",
    "    words = word_tokenize(text)\n",
    "    words = [word for word in words if word.lower() not in stop_words]\n",
    "    cleaned_text = ' '.join(words)\n",
    "    return cleaned_text\n",
    "\n",
    "df['cleaned_text'] = df['Article'].apply(clean_text)\n",
    "\n",
    "print(df['cleaned_text'].head())\n"
   ]
  },
  {
   "cell_type": "code",
   "execution_count": 9,
   "id": "25cb69dd-0611-40c8-852f-803e0204f883",
   "metadata": {},
   "outputs": [
    {
     "name": "stdout",
     "output_type": "stream",
     "text": [
      "                                        cleaned_text      mood\n",
      "0  Retailers makers foods marketed weight loss ty...  Positive\n",
      "1  Move Ozempic theres new drug town Eli Lillys Z...  Negative\n",
      "2  Sept 14 Reuters Bristol Myers Squibb BMYN said...  Positive\n",
      "3  Austin Wolcott 18 years old pretty sure wouldn...  Positive\n",
      "4  Cancer often referred emperor maladies unyield...  Positive\n"
     ]
    }
   ],
   "source": [
    "from textblob import TextBlob\n",
    "\n",
    "def get_sentiment(text):\n",
    "    blob = TextBlob(text)\n",
    "    if blob.sentiment.polarity > 0:\n",
    "        return 'Positive'\n",
    "    elif blob.sentiment.polarity < 0:\n",
    "        return 'Negative'\n",
    "    else:\n",
    "        return 'Neutral'\n",
    "\n",
    "df['mood'] = df['cleaned_text'].apply(get_sentiment)\n",
    "print(df[['cleaned_text', 'mood']].head())\n"
   ]
  },
  {
   "cell_type": "code",
   "execution_count": 10,
   "id": "9d479791-5427-433d-a2c1-2e010cd87454",
   "metadata": {},
   "outputs": [
    {
     "name": "stdout",
     "output_type": "stream",
     "text": [
      "Topic 0: 0.014*\"account\" + 0.008*\"BRUKINSA\" + 0.007*\"Wells\" + 0.006*\"patients\" + 0.006*\"opening\" + 0.006*\"Fargo\" + 0.005*\"bonus\" + 0.004*\"FL\" + 0.004*\"approved\" + 0.004*\"obinutuzumab\"\n",
      "Topic 1: 0.009*\"CART\" + 0.007*\"cancer\" + 0.007*\"Nike\" + 0.006*\"therapy\" + 0.006*\"Strava\" + 0.006*\"Taco\" + 0.006*\"says\" + 0.005*\"cells\" + 0.004*\"new\" + 0.004*\"patients\"\n",
      "Topic 2: 0.012*\"Nike\" + 0.008*\"firm\" + 0.005*\"said\" + 0.005*\"also\" + 0.005*\"market\" + 0.005*\"believe\" + 0.005*\"products\" + 0.004*\"company\" + 0.004*\"sales\" + 0.003*\"Nikes\"\n"
     ]
    }
   ],
   "source": [
    "from gensim import corpora, models\n",
    "from nltk.tokenize import word_tokenize\n",
    "\n",
    "tokenized_texts = [word_tokenize(text) for text in df['cleaned_text']]\n",
    "dictionary = corpora.Dictionary(tokenized_texts)\n",
    "corpus = [dictionary.doc2bow(text) for text in tokenized_texts]\n",
    "lda_model = models.LdaModel(corpus, num_topics=3, id2word=dictionary, passes=10)\n",
    "\n",
    "for idx, topic in lda_model.print_topics(-1):\n",
    "    print(f'Topic {idx}: {topic}')\n"
   ]
  },
  {
   "cell_type": "code",
   "execution_count": 12,
   "id": "bae21067-43f4-413f-aaa8-b14cd4898755",
   "metadata": {},
   "outputs": [
    {
     "name": "stdout",
     "output_type": "stream",
     "text": [
      "                                        cleaned_text cost_sentiment\n",
      "0  Retailers makers foods marketed weight loss ty...       Positive\n",
      "1  Move Ozempic theres new drug town Eli Lillys Z...       Negative\n",
      "2  Sept 14 Reuters Bristol Myers Squibb BMYN said...        Neutral\n",
      "3  Austin Wolcott 18 years old pretty sure wouldn...       Positive\n",
      "4  Cancer often referred emperor maladies unyield...       Positive\n"
     ]
    }
   ],
   "source": [
    "def aspect_sentiment(text, aspect):\n",
    "    blob = TextBlob(text)\n",
    "    sentences = blob.sentences\n",
    "    aspect_sentences = [sentence for sentence in sentences if aspect in sentence.lower()]\n",
    "    if len(aspect_sentences) == 0:\n",
    "        return 'Neutral' \n",
    "    aspect_polarity = sum(sentence.sentiment.polarity for sentence in aspect_sentences) / len(aspect_sentences)\n",
    "    return 'Positive' if aspect_polarity > 0 else 'Negative' if aspect_polarity < 0 else 'Neutral'\n",
    "\n",
    "df['cost_sentiment'] = df['cleaned_text'].apply(lambda x: aspect_sentiment(x, 'cost'))\n",
    "print(df[['cleaned_text', 'cost_sentiment']].head())\n"
   ]
  },
  {
   "cell_type": "code",
   "execution_count": 14,
   "id": "594a51b1-46b5-490e-bb5e-cd464ff15f3e",
   "metadata": {},
   "outputs": [
    {
     "name": "stdout",
     "output_type": "stream",
     "text": [
      "                                             Article  \\\n",
      "0  Retailers, the makers of foods marketed for we...   \n",
      "1  Move over, Ozempic — there’s a new drug in tow...   \n",
      "2  Sept 14 (Reuters) - Bristol Myers Squibb (BMY....   \n",
      "3  Austin Wolcott was 18 years old and pretty sur...   \n",
      "4  Cancer, often referred to as the “emperor of a...   \n",
      "\n",
      "                                        cleaned_text      mood cost_sentiment  \\\n",
      "0  Retailers makers foods marketed weight loss ty...  Positive       Positive   \n",
      "1  Move Ozempic theres new drug town Eli Lillys Z...  Negative       Negative   \n",
      "2  Sept 14 Reuters Bristol Myers Squibb BMYN said...  Positive        Neutral   \n",
      "3  Austin Wolcott 18 years old pretty sure wouldn...  Positive       Positive   \n",
      "4  Cancer often referred emperor maladies unyield...  Positive       Positive   \n",
      "\n",
      "                                             summary  \n",
      "0  Retailers makers foods marketed weight loss ty...  \n",
      "1  Move Ozempic theres new drug town Eli Lillys Z...  \n",
      "2  Sept 14 Reuters Bristol Myers Squibb BMYN said...  \n",
      "3  Austin Wolcott 18 years old pretty sure wouldn...  \n",
      "4  Cancer often referred emperor maladies unyield...  \n"
     ]
    }
   ],
   "source": [
    "df['summary'] = df['cleaned_text'].apply(lambda x: ' '.join(word_tokenize(x)[:10]))\n",
    "\n",
    "df.to_excel(r'C:\\Users\\HP\\Desktop\\Assignment\\news_analysis_output.xlsx', index=False)\n",
    "\n",
    "print(df.head())\n"
   ]
  },
  {
   "cell_type": "code",
   "execution_count": null,
   "id": "531f633f-c273-455d-8697-c6873049b035",
   "metadata": {},
   "outputs": [],
   "source": []
  }
 ],
 "metadata": {
  "kernelspec": {
   "display_name": "Python 3 (ipykernel)",
   "language": "python",
   "name": "python3"
  },
  "language_info": {
   "codemirror_mode": {
    "name": "ipython",
    "version": 3
   },
   "file_extension": ".py",
   "mimetype": "text/x-python",
   "name": "python",
   "nbconvert_exporter": "python",
   "pygments_lexer": "ipython3",
   "version": "3.11.7"
  }
 },
 "nbformat": 4,
 "nbformat_minor": 5
}
